{
  "nbformat": 4,
  "nbformat_minor": 0,
  "metadata": {
    "colab": {
      "provenance": [],
      "include_colab_link": true
    },
    "kernelspec": {
      "name": "python3",
      "display_name": "Python 3"
    },
    "language_info": {
      "name": "python"
    }
  },
  "cells": [
    {
      "cell_type": "markdown",
      "metadata": {
        "id": "view-in-github",
        "colab_type": "text"
      },
      "source": [
        "<a href=\"https://colab.research.google.com/github/Victor-Andrade/Recommendation-System/blob/main/Mini_Batch.ipynb\" target=\"_parent\"><img src=\"https://colab.research.google.com/assets/colab-badge.svg\" alt=\"Open In Colab\"/></a>"
      ]
    },
    {
      "cell_type": "markdown",
      "source": [
        "###Sistema de Recomendação\n",
        "##Discentes: Maria Virgínia e Victor Hugo"
      ],
      "metadata": {
        "id": "RFlKoPfzkXwo"
      }
    },
    {
      "cell_type": "markdown",
      "source": [],
      "metadata": {
        "id": "q7PlMch1kNon"
      }
    },
    {
      "cell_type": "code",
      "source": [
        "from google.colab import drive\n",
        "drive.mount('/content/drive')"
      ],
      "metadata": {
        "id": "vZrnznKbfuS4",
        "colab": {
          "base_uri": "https://localhost:8080/"
        },
        "outputId": "63474e59-2f8a-4a24-b649-d6dcd081f6c9"
      },
      "execution_count": 1,
      "outputs": [
        {
          "output_type": "stream",
          "name": "stdout",
          "text": [
            "Mounted at /content/drive\n"
          ]
        }
      ]
    },
    {
      "cell_type": "markdown",
      "source": [],
      "metadata": {
        "id": "tTIulyOygegP"
      }
    },
    {
      "cell_type": "code",
      "source": [
        "import pandas as pd\n",
        "from scipy.sparse import csr_matrix\n",
        "from sklearn.metrics.pairwise import cosine_similarity\n",
        "from sklearn.model_selection import train_test_split\n",
        "import random\n",
        "import numpy as np\n",
        "\n",
        "# Caminhos dos arquivos\n",
        "ratings_path = '/content/drive/My Drive/recomendacao de filmes/ml-32m/ratings.csv'\n",
        "movies_path = '/content/drive/My Drive/recomendacao de filmes/ml-32m/movies.csv'\n",
        "\n",
        "# Ler o arquivo de filmes\n",
        "movies = pd.read_csv(movies_path)\n",
        "\n",
        "# Definir o tamanho dos chunks e fração para amostragem\n",
        "chunk_size = 50000  # Ajuste este valor conforme necessário\n",
        "frac = 1  # Fração de dados a serem amostrados o.5 para obter 50% do dataset total\n",
        "\n",
        "# Lista para armazenar os pedaços amostrados\n",
        "sampled_chunks = []\n",
        "\n",
        "# Ler o arquivo de ratings em pedaços e amostrar\n",
        "for chunk in pd.read_csv(ratings_path, chunksize=chunk_size):\n",
        "    # Fazer o merge do pedaço atual com os filmes\n",
        "    chunk = pd.merge(chunk, movies, on='movieId')\n",
        "    # Amostrar pedaço atual\n",
        "    sampled_chunk = chunk.sample(frac=frac, random_state=42)\n",
        "    sampled_chunks.append(sampled_chunk)\n",
        "\n",
        "# Concatenar todos os pedaços amostrados em um único DataFrame\n",
        "data_sample = pd.concat(sampled_chunks, axis=0)\n",
        "\n",
        "# Dividir os dados em conjuntos de treino e teste\n",
        "train_data, test_data = train_test_split(data_sample, test_size=0.5, random_state=42)\n",
        "\n",
        "# Criar um mapeamento de IDs de usuários e títulos de filmes para índices numéricos\n",
        "user_mapper = {user_id: i for i, user_id in enumerate(train_data['userId'].unique())}\n",
        "movie_mapper = {movie_id: i for i, movie_id in enumerate(train_data['movieId'].unique())}\n",
        "\n",
        "# Mapeando IDs para índices\n",
        "user_index = train_data['userId'].map(user_mapper)\n",
        "movie_index = train_data['movieId'].map(movie_mapper)\n",
        "\n",
        "# Criar a matriz esparsa do conjunto de treino\n",
        "user_movie_matrix_sparse = csr_matrix((train_data['rating'], (user_index, movie_index)))\n"
      ],
      "metadata": {
        "id": "FCwemoRpgaAG"
      },
      "execution_count": 2,
      "outputs": []
    },
    {
      "cell_type": "code",
      "source": [
        "# Função para calcular similaridade para um usuário específico sob demanda\n",
        "def calculate_similarity_for_user(user_id, user_movie_matrix_sparse):\n",
        "    # Índice do usuário para quem estamos calculando a similaridade\n",
        "    user_idx = user_mapper.get(user_id)\n",
        "\n",
        "    if user_idx is None:\n",
        "        return None  # Usuário não está no conjunto de treino\n",
        "\n",
        "    # Similaridade do usuário alvo com todos os outros usuários\n",
        "    user_vector = user_movie_matrix_sparse[user_idx]\n",
        "    similarity_scores = cosine_similarity(user_vector, user_movie_matrix_sparse).flatten()\n",
        "\n",
        "    # Criar um DataFrame para similaridades com índice de userId original\n",
        "    similarity_df = pd.DataFrame(data=similarity_scores, index=list(user_mapper.keys()), columns=['similarity'])\n",
        "\n",
        "    # Ordenar pela similaridade, do maior para o menor\n",
        "    return similarity_df.sort_values('similarity', ascending=False)\n",
        "\n",
        "# Função para recomendar filmes baseada na similaridade sob demanda\n",
        "def recommend_movies(user_id, num_recommendations):\n",
        "    similar_users = calculate_similarity_for_user(user_id, user_movie_matrix_sparse)\n",
        "    if similar_users is None:\n",
        "        return []  # Usuário não está no conjunto de treino\n",
        "\n",
        "    recommendations = []\n",
        "\n",
        "    # Iterar sobre usuários similares para encontrar recomendações\n",
        "    for similar_user in similar_users.index[1:]:  # Pular o primeiro, que é o próprio usuário\n",
        "        similar_user_ratings = train_data[train_data['userId'] == similar_user]\n",
        "        recommended_movies = similar_user_ratings['title']\n",
        "        recommendations.extend(recommended_movies)\n",
        "\n",
        "        if len(recommendations) >= num_recommendations:\n",
        "            break\n",
        "\n",
        "    return random.sample(recommendations, min(num_recommendations, len(recommendations)))\n",
        "\n",
        "user_id = user_index.iloc[5]  # Escolher um user_id válido da lista de IDs disponíveis\n",
        "num_recommendations = 5\n",
        "recommended_movies = recommend_movies(user_id, num_recommendations)\n",
        "print(\"Recomendações para o usuário\", user_id, \":\", recommended_movies)"
      ],
      "metadata": {
        "id": "ON1bxnBDgcXI",
        "colab": {
          "base_uri": "https://localhost:8080/"
        },
        "outputId": "daa939d9-27f8-40b3-8a94-6d56cc68292b"
      },
      "execution_count": 18,
      "outputs": [
        {
          "output_type": "stream",
          "name": "stdout",
          "text": [
            "Recomendações para o usuário 5 : ['Outbreak (1995)', 'Jurassic Park (1993)', 'Cliffhanger (1993)', 'Fugitive, The (1993)', 'Batman (1989)']\n"
          ]
        }
      ]
    },
    {
      "cell_type": "code",
      "source": [
        "def calculate_precision(user_id, recommended_movies, ratings_threshold=4.0):\n",
        "    # Obter os filmes que o usuário avaliou e que são considerados relevantes\n",
        "    user_ratings = train_data[train_data['userId'] == user_id]\n",
        "    relevant_movies = user_ratings[user_ratings['rating'] >= ratings_threshold]['title'].tolist()\n",
        "\n",
        "    # Contar quantos dos filmes recomendados são relevantes\n",
        "    relevant_recommendations = [movie for movie in recommended_movies if movie in relevant_movies]\n",
        "\n",
        "    # Calcular a precisão (número de recomendações relevantes / total de recomendações)\n",
        "    precision = len(relevant_recommendations) / len(recommended_movies) if recommended_movies else 0\n",
        "    return precision\n",
        "\n",
        "# Exemplo de uso\n",
        "precision = calculate_precision(user_id, recommended_movies)\n",
        "print(f\"Precisão para o usuário {user_id}: {precision:.4f}\")\n"
      ],
      "metadata": {
        "colab": {
          "base_uri": "https://localhost:8080/"
        },
        "id": "3QKyUXIDu8Uy",
        "outputId": "c865ceb6-de39-415d-8985-c7605d1d6622"
      },
      "execution_count": 19,
      "outputs": [
        {
          "output_type": "stream",
          "name": "stdout",
          "text": [
            "Precisão para o usuário 5: 0.6000\n"
          ]
        }
      ]
    },
    {
      "cell_type": "markdown",
      "source": [
        "Avaliar usuários com mais ratings\n"
      ],
      "metadata": {
        "id": "3K_OusDovPv8"
      }
    }
  ]
}